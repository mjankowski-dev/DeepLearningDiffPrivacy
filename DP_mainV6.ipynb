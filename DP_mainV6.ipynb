{
 "cells": [
  {
   "cell_type": "markdown",
   "metadata": {
    "colab_type": "text",
    "id": "XNFVMtUhMt7l"
   },
   "source": [
    "# Deep learning with Differential Privacy - Main script. Author: Reinier Vos (4663160 TUD)"
   ]
  },
  {
   "cell_type": "markdown",
   "metadata": {
    "colab_type": "text",
    "id": "NenrAcsiM7Zl"
   },
   "source": [
    "## Imports"
   ]
  },
  {
   "cell_type": "code",
   "execution_count": 7,
   "metadata": {
    "colab": {},
    "colab_type": "code",
    "id": "JkMXve8XuN5X"
   },
   "outputs": [],
   "source": [
    "try:\n",
    "  # %tensorflow_version only exists in Colab.\n",
    "    %tensorflow_version 2.x\n",
    "except Exception:\n",
    "    pass\n",
    "  \n",
    "import tensorflow as tf\n",
    "import tensorflow_probability as tfp\n",
    "from tensorflow.keras.models import Model\n",
    "from tensorflow.keras.layers import Dense, Input, Normalization\n",
    "\n",
    "import numpy as np\n",
    "import matplotlib.pyplot as plt\n",
    "import pandas as pd\n",
    "from sklearn.model_selection import train_test_split\n",
    "from sklearn.metrics import confusion_matrix\n",
    "import itertools\n",
    "from tqdm import tqdm # gives progress bar when loading\n",
    "import tensorflow_datasets as tfds\n",
    "import matplotlib.ticker as mticker\n",
    "import scipy.stats as sc\n",
    "import time\n",
    "from sklearn.preprocessing import StandardScaler\n",
    "import random\n",
    "# verbosity \n",
    "#tf.compat.v1.logging.set_verbosity(tf.compat.v1.logging.ERROR)\n",
    "tf.autograph.set_verbosity(0)"
   ]
  },
  {
   "cell_type": "markdown",
   "metadata": {},
   "source": [
    "# QUESTIONS/TO-DO\n",
    "- minibatches for sgd, to speed up optimization? - https://github.com/tensorflow/privacy/blob/master/tutorials/mnist_dpsgd_tutorial.py \n",
    "-\n",
    "-\n",
    "-\n",
    "-\n",
    "-"
   ]
  },
  {
   "cell_type": "markdown",
   "metadata": {},
   "source": [
    "# Script Main Parameters"
   ]
  },
  {
   "cell_type": "code",
   "execution_count": 35,
   "metadata": {},
   "outputs": [],
   "source": [
    "# main\n",
    "seed = 2\n",
    "std_pca = 7 #16 #4 # std for pca\n",
    "std_sgd = 4 # std for dp_sgd\n",
    "batch_size = 600 \n",
    "lr_sgd = 0.05 # [0.01,0.07] stable, best at 0.05\n",
    "C = 4 # gradient clipping bound\n",
    "gs = batch_size\n",
    "\n",
    "# moment accountant specific\n",
    "parameters_ma = {\"maxOrder\":32,\n",
    "                 \"sigma\": std_sgd,\n",
    "                 \"q\": batch_size/60000,\n",
    "                 \"T\":400}\n",
    "debug = True\n",
    "#'''\n",
    "deltaFixed = False\n",
    "epsFixed= True\n",
    "epsilon = 2\n",
    "th_delta = 100#10**-5 # epsilon fixed\n",
    "'''\n",
    "deltaFixed = True \n",
    "epsFixed= False\n",
    "delta = 10e-5\n",
    "th_epsilon = 2 # delta fixed\n",
    "'''\n",
    "allParameters = {**parameters_ma,\n",
    "                'seed' : seed,\n",
    "                'std_pca' :std_pca, \n",
    "                'std_sgd' : std_sgd,\n",
    "                'batch_size' : batch_size, \n",
    "                'lr_sgd' : lr_sgd, \n",
    "                'C' : C, \n",
    "                'deltaFixed' : deltaFixed, \n",
    "                'epsFixed': epsFixed, \n",
    "                'epsilon' : epsilon, \n",
    "                'th_delta' : th_delta, \n",
    "}\n",
    "'''\n",
    "allParameters = {**parameters_ma,\n",
    "                'seed' = seed,\n",
    "                'std_pca' =std_pca, \n",
    "                'std_sgd' = std_sgd,\n",
    "                'batch_size' = batch_size, \n",
    "                'lr_sgd' = lr_sgd, \n",
    "                'C' = C, \n",
    "                'deltaFixed' = deltaFixed, \n",
    "                'epsFixed'= epsFixed, \n",
    "                'delta' = delta, 'th_epsilon' = th_epsilon, \n",
    "}\n",
    "'''\n",
    "batches = 100\n",
    "np.random.seed(seed)  "
   ]
  },
  {
   "cell_type": "code",
   "execution_count": 36,
   "metadata": {},
   "outputs": [
    {
     "name": "stdout",
     "output_type": "stream",
     "text": [
      "Maxorder = 32, with order array:\n",
      "[ 1  2  3  4  5  6  7  8  9 10 11 12 13 14 15 16 17 18 19 20 21 22 23 24\n",
      " 25 26 27 28 29 30 31 32]\n",
      "keeping epsilon fixed\n",
      "moment accountant setup complete\n",
      "Delta fixed = False| Last delta = 7.3130754258017764e-06\n",
      "Epsilon fixed = True| Last epsilon = 2\n",
      "Fixed parameter will not be plotted \n",
      " NOTE: Iteration arrays are returned\n"
     ]
    },
    {
     "data": {
      "text/plain": [
       "(array([1.61157896e-28, 1.61938465e-28, 1.62722815e-28, ...,\n",
       "        7.28717560e-06, 7.30011403e-06, 7.31307543e-06]),\n",
       " array([2, 2, 2, ..., 2, 2, 2]),\n",
       " array([32, 32, 32, ..., 17, 17, 17]))"
      ]
     },
     "execution_count": 36,
     "metadata": {},
     "output_type": "execute_result"
    },
    {
     "data": {
      "image/png": "[encoded data removed]",
      "text/plain": [
       "<Figure size 432x288 with 1 Axes>"
      ]
     },
     "metadata": {
      "needs_background": "light"
     },
     "output_type": "display_data"
    },
    {
     "data": {
      "image/png": "[encoded data removed]",
      "text/plain": [
       "<Figure size 432x288 with 1 Axes>"
      ]
     },
     "metadata": {
      "needs_background": "light"
     },
     "output_type": "display_data"
    }
   ],
   "source": [
    "accountant = moment_accountant(seed, parameters_ma, deltaFixed = deltaFixed, epsFixed= epsFixed, debug = debug, epsilon = epsilon, th_delta = th_delta)\n",
    "#for i in range(12500):\n",
    "for i in range(80000):\n",
    "    accountant.compute_deltaEps()\n",
    "accountant.plot_traces()"
   ]
  },
  {
   "cell_type": "markdown",
   "metadata": {
    "colab_type": "text",
    "id": "wtcG5Of7M-IV"
   },
   "source": [
    "## Load and Preprocess Data\n",
    "We frist load the MNIST dataset using Tensorflow Datasets. This dataset has 28 x 28 grayscale images of digits belonging to 10 classes.\n"
   ]
  },
  {
   "cell_type": "markdown",
   "metadata": {
    "colab": {},
    "colab_type": "code",
    "id": "K1qm4y2FmvWJ"
   },
   "source": [
    "train_data, info = tfds.load(\"mnist\", split = \"train\", with_info = True, data_dir='./data/', download=True)\n",
    "test_data = tfds.load(\"mnist\", split = \"test\", data_dir='./data/', download=True)"
   ]
  },
  {
   "cell_type": "code",
   "execution_count": 9,
   "metadata": {},
   "outputs": [],
   "source": [
    "(x_train, y_train), (x_test, y_test) = tf.keras.datasets.mnist.load_data()"
   ]
  },
  {
   "cell_type": "code",
   "execution_count": 10,
   "metadata": {},
   "outputs": [],
   "source": [
    "# reshape\n",
    "x_train = x_train.reshape(x_train.shape[0],784)\n",
    "x_test = x_test.reshape(x_test.shape[0],784)\n",
    "\n",
    "scaler = StandardScaler()\n",
    "x_train = scaler.fit_transform(x_train)\n",
    "x_test = scaler.transform(x_test)\n",
    "\n",
    "covar = tf.cast(tf.einsum('ji,jk->ik', x_train, x_train), 'float32') # covariance matrix used for pca"
   ]
  },
  {
   "cell_type": "code",
   "execution_count": 11,
   "metadata": {},
   "outputs": [],
   "source": [
    "# get batches\n",
    "indices = np.arange(0,len(x_train))\n",
    "np.random.shuffle(indices)\n",
    "\n",
    "x_train_batches = np.array_split(x_train[indices,:], batches)\n",
    "y_train_batches = np.array_split(y_train[indices], batches)\n",
    "train = list(zip(x_train_batches, y_train_batches))\n",
    "x_test_batches = np.array_split(x_test, batches)\n",
    "y_test_batches = np.array_split(y_test, batches)\n",
    "test = list(zip(x_test_batches, y_test_batches))"
   ]
  },
  {
   "cell_type": "code",
   "execution_count": 12,
   "metadata": {
    "colab": {},
    "colab_type": "code",
    "id": "DbliOEMHNiug"
   },
   "outputs": [],
   "source": [
    "class_names = [\"0\",\"1\",\"2\",\"3\",\"4\",\"5\",\"6\",\"7\",\"8\",\"9\",\"10\"]"
   ]
  },
  {
   "cell_type": "markdown",
   "metadata": {
    "colab_type": "text",
    "id": "sn718Y0LOIaY"
   },
   "source": [
    "Next, you normalize the images by dividing them by 255.0 so as to make the pixels fall in the range (0, 1). You also reshape the data so as to flatten the 28 x 28 pixel array into a flattened 784 pixel array."
   ]
  },
  {
   "cell_type": "markdown",
   "metadata": {
    "colab": {},
    "colab_type": "code",
    "id": "oxwzgw3BmkoD"
   },
   "source": [
    "def format_image(data):        \n",
    "    image = data[\"image\"]\n",
    "    image = tf.reshape(image, [-1]) ## same as keras.layers.Flatten()\n",
    "    image = tf.cast(image, 'float32')\n",
    "    image = image / 255.0\n",
    "    image = tf.math.l2_normalize(image, axis=-1)\n",
    "    #image = image / 255.0\n",
    "    return image, data[\"label\"]"
   ]
  },
  {
   "cell_type": "markdown",
   "metadata": {
    "colab": {},
    "colab_type": "code",
    "id": "c26dmIL5nmNU"
   },
   "source": [
    "train_data = train_data.map(format_image) # preprocesses\n",
    "test_data = test_data.map(format_image) # preprocesses"
   ]
  },
  {
   "cell_type": "markdown",
   "metadata": {
    "colab_type": "text",
    "id": "ws3N-uOgOnMf"
   },
   "source": [
    "Now you shuffle and batch your training and test datasets before feeding them to the model."
   ]
  },
  {
   "cell_type": "markdown",
   "metadata": {
    "colab": {},
    "colab_type": "code",
    "id": "h9qdsNPen5-F"
   },
   "source": [
    "#train_data = tf.data.Dataset(x_train)\n",
    "#test_data = tf.data.Dataset(x_test)\n",
    "\n",
    "train = train_data.shuffle(buffer_size=batch_size*4).batch(batch_size) # memory management - batches are drawn from 1024 selected - if selected samples are replaced by unseen samples\n",
    "\n",
    "test =  test_data.batch(batch_size=batch_size)\n"
   ]
  },
  {
   "cell_type": "markdown",
   "metadata": {
    "colab_type": "text",
    "id": "fuCf0s7eOxKQ"
   },
   "source": [
    "## Define the Model - DP for MNIST as in paper\n"
   ]
  },
  {
   "cell_type": "markdown",
   "metadata": {},
   "source": [
    "### DP PCA layer"
   ]
  },
  {
   "cell_type": "code",
   "execution_count": 13,
   "metadata": {},
   "outputs": [],
   "source": [
    "class DP_PCA(tf.keras.layers.Layer):\n",
    "    def __init__(self, pca_components, seed, std, covar):\n",
    "        super(DP_PCA, self).__init__()\n",
    "        self.pca_components = pca_components\n",
    "        self.seed = seed\n",
    "        self.std = std\n",
    "        self.covar = covar\n",
    "\n",
    "    def build(self, input_shape):\n",
    "        a = 1 # placeholder\n",
    "\n",
    "    def call(self, inputs):\n",
    "        #inputs = tf.linalg.normalize(inputs, ord=2, axis=-1)\n",
    "        #inputs = tf.math.l2_normalize(inputs, axis=-1)\n",
    "        #covar = tf.einsum('ji,jk->ik', inputs, inputs)\n",
    "        #print(tf.shape(covar))\n",
    "        # add noise\n",
    "        covar = self.covar # copy\n",
    "        shape = tf.shape(covar)\n",
    "        noise = tf.random.normal(shape, mean = 0, stddev = self.std, dtype=tf.dtypes.float32, seed=self.seed)\n",
    "        covar += noise\n",
    "        # add vectors\n",
    "        e_values, e_vectors = tf.linalg.eigh(covar)\n",
    "        return tf.einsum('ij,jk->ik', inputs, e_vectors[:,-self.pca_components:])\n",
    "        #return tf.einsum('ji,ik->jk', inputs, e_vectors[:,-self.pca_components:])"
   ]
  },
  {
   "cell_type": "markdown",
   "metadata": {},
   "source": [
    "### Base model"
   ]
  },
  {
   "cell_type": "code",
   "execution_count": 14,
   "metadata": {
    "colab": {},
    "colab_type": "code",
    "id": "HU3qcM9WBcMh"
   },
   "outputs": [],
   "source": [
    "def base_model():\n",
    "    inputs = tf.keras.Input(shape=(784,), name='digits')\n",
    "    #x = tf.keras.layers.Normalization(axis=-1)(inputs) # normalization\n",
    "    x = DP_PCA(60, seed, std_pca, covar)(inputs)\n",
    "    #x = DP_PCA(60, seed, std_pca)(x)\n",
    "    #x = tf.keras.layers.Dense(1000, activation='relu', name='dense_1')(inputs)\n",
    "    x = tf.keras.layers.Dense(1000, activation='relu', name='dense_1')(x)\n",
    "    outputs = tf.keras.layers.Dense(10, activation='softmax', name='predictions')(x)\n",
    "    model = tf.keras.Model(inputs=inputs, outputs=outputs)\n",
    "    model.summary()\n",
    "    return model"
   ]
  },
  {
   "cell_type": "markdown",
   "metadata": {},
   "source": [
    "model = base_model()\n",
    "z = np.random.rand(28*28)\n",
    "z = tf.constant(z)\n",
    "zout = model(z)"
   ]
  },
  {
   "cell_type": "markdown",
   "metadata": {
    "colab_type": "text",
    "id": "mxaHy1NYPGSb"
   },
   "source": [
    "## Define Optimizer and Loss Function\n"
   ]
  },
  {
   "cell_type": "code",
   "execution_count": 15,
   "metadata": {
    "colab": {},
    "colab_type": "code",
    "id": "v5B3vh6fs84i"
   },
   "outputs": [],
   "source": [
    "optimizer = tf.keras.optimizers.SGD(learning_rate = lr_sgd) # [0.01,0.07] stable, best at 0.05\n",
    "loss_object = tf.keras.losses.SparseCategoricalCrossentropy(reduction=tf.compat.v1.losses.Reduction.NONE)\n",
    "#loss_object = tf.keras.losses.SparseCategoricalCrossentropy()\n",
    "#loss_object = lambda t,p : tf.reduce_sum(tf.math.square(tf.squeeze(tf.cast(tf.one_hot(t, 10), tf.float32))- p), axis = -1)\n",
    "#loss_object = lambda t,p : tf.reduce_sum(tf.math.square(tf.squeeze(tf.cast(tf.one_hot(t, 10), tf.float32))- p), axis = -1)\n"
   ]
  },
  {
   "cell_type": "markdown",
   "metadata": {},
   "source": [
    "y1 = tf.constant([[1],[3]])\n",
    "x1 = tf.constant([[0,0.1,0.2,0.1],[0,0.1,0.2,0.1]])\n",
    "print(tf.squeeze(tf.cast(tf.one_hot(y1, 4), tf.float32)))\n",
    "\n",
    "loss_object = lambda t,p : tf.reduce_sum(tf.math.square(tf.squeeze(tf.cast(tf.one_hot(t, 4), tf.float32))- p), axis = -1) # tf.reduce_sum(tf.math.square(tf.math.subtract(tf.cast(tf.one_hot(t, 4), tf.float32),p)), axis = -1) \n",
    "l = loss_object(y1, x1)\n",
    "l"
   ]
  },
  {
   "cell_type": "markdown",
   "metadata": {
    "colab_type": "text",
    "id": "w1fJsdYIPTb8"
   },
   "source": [
    "## Define Metrics & Loss functions"
   ]
  },
  {
   "cell_type": "code",
   "execution_count": 16,
   "metadata": {
    "colab": {},
    "colab_type": "code",
    "id": "7Pa_x-5-CH_V"
   },
   "outputs": [],
   "source": [
    "train_acc_metric = tf.keras.metrics.SparseCategoricalAccuracy()\n",
    "val_acc_metric = tf.keras.metrics.SparseCategoricalAccuracy()"
   ]
  },
  {
   "cell_type": "markdown",
   "metadata": {},
   "source": [
    "## Moment accountant class"
   ]
  },
  {
   "cell_type": "code",
   "execution_count": 34,
   "metadata": {},
   "outputs": [],
   "source": [
    "class moment_accountant():\n",
    "    def __init__(self,seed, params: dict,deltaFixed = False, epsFixed= False, debug = False, **kwargs):\n",
    "        \n",
    "        # moment accountant hyperparameters\n",
    "        self.mixN = 10000 # samples for mixture of moment arrays\n",
    "        self.debug = debug\n",
    "        self.seed = seed\n",
    "        \n",
    "        # constants \n",
    "        self.maxOrder = params[\"maxOrder\"] # maximum moment order \n",
    "        self.lambd = np.arange(1,self.maxOrder+1)\n",
    "        #self.lambd = np.array([0])\n",
    "        self.lambdaN = len(self.lambd) # number of lambdas to check\n",
    "        print(f\"Maxorder = {self.maxOrder}, with order array:\")\n",
    "        print(self.lambd)\n",
    "        self.sigma = params[\"sigma\"]\n",
    "        self.q = params[\"q\"]\n",
    "        self.T = params[\"T\"]\n",
    "        \n",
    "        # booleans \n",
    "        self.deltaFixed = deltaFixed\n",
    "        self.epsFixed = epsFixed\n",
    "        \n",
    "        if self.deltaFixed:\n",
    "            if self.epsFixed:\n",
    "                raise Exception(\"Choose ONLY epsilon or delta as fixed\")\n",
    "            # in case delta is held fixed\n",
    "            print(\"keeping delta fixed\")\n",
    "            self.delta = kwargs[\"delta\"]\n",
    "            self.th_epsilon = kwargs[\"th_epsilon\"]\n",
    "        elif self.epsFixed:\n",
    "            # in case epsilon is held fixed\n",
    "            print(\"keeping epsilon fixed\")\n",
    "            self.epsilon = kwargs[\"epsilon\"]\n",
    "            self.th_delta = kwargs[\"th_delta\"]\n",
    "        else:\n",
    "            raise Exception(\"Choose EITHER epsilon or delta as fixed\")\n",
    "        \n",
    "        #self.e1_mu0, self.e1_mu, self.e2_mu0, self.e2_mu = self._setup_mixNormNP() # obtain random sample arrays NUMPY\n",
    "        self.e1_mu0, self.e1_mu, self.e2_mu0, self.e2_mu = self._setup_mixNormTF() # obtain random sample arrays TENSORFLOW\n",
    "        self.alpha = self._compute_moment(self.lambd)\n",
    "        \n",
    "        # initializations \n",
    "        self.alphaSum = 0 # moment\n",
    "        self.lambdArgmin = []\n",
    "        self.iterations = 0\n",
    "        self.deltaList = []\n",
    "        self.epsList = []\n",
    "        # =================================\n",
    "        print(\"moment accountant setup complete\")\n",
    "        \n",
    "    def _setup_mixNormTF(self):\n",
    "        '''\n",
    "        Mixture of gaussians by tensorflow, so no assumptions used\n",
    "        https://www.tensorflow.org/probability/api_docs/python/tfp/distributions/Mixture\n",
    "        '''\n",
    "        \n",
    "        '''\n",
    "        CHECKED - WORKING CORRECTLY\n",
    "        '''\n",
    "        # setup normal dis & mixture of normals arrays\n",
    "        np.random.seed(self.seed) # set seed\n",
    "        mu_0 = np.random.normal(0, self.sigma, (self.mixN))\n",
    "        # analytical mean & var for mix\n",
    "        \n",
    "        # setup gaussian mixture\n",
    "        dismix_mu = tfp.distributions.Mixture(cat=tfp.distributions.Categorical(probs=[1.-self.q, self.q]),\n",
    "                                    components=[tfp.distributions.Normal(loc=0., scale=self.sigma),\n",
    "                                                tfp.distributions.Normal(loc=1., scale=self.sigma)])\n",
    "        mu = dismix_mu.sample(sample_shape=(self.mixN), seed=self.seed).numpy()\n",
    "\n",
    "        # find pdf values for z's \n",
    "        e1_mu0 = sc.norm.pdf(mu_0,loc = 0, scale = self.sigma)\n",
    "        e1_mu = dismix_mu.prob(mu_0).numpy()\n",
    "        \n",
    "        e2_mu0 = sc.norm.pdf(mu,loc = 0, scale = self.sigma)\n",
    "        e2_mu = dismix_mu.prob(mu).numpy()\n",
    "\n",
    "        return e1_mu0, e1_mu, e2_mu0, e2_mu\n",
    "                            \n",
    "    def _compute_moment(self, lambd: np.array):\n",
    "        '''\n",
    "        CHECKED - WORKING CORRECTLY\n",
    "        '''\n",
    "        # computes unbiased expectation for E1 & E2, then the moment alpha \n",
    "        lambd = np.broadcast_to(np.expand_dims(lambd, -1), (self.lambdaN, self.mixN)) # broadcast\n",
    "        #E1 = 1/self.mixN*np.sum(np.transpose(np.power(np.transpose(self.mu_0/self.mu),lambd)), axis = 0)\n",
    "        #E2 = 1/self.mixN*np.sum(np.transpose(np.power(np.transpose(self.mu/self.mu_0),lambd)), axis = 0)\n",
    "        E1 = np.nanmean(np.transpose(np.power(np.transpose(self.e1_mu0/self.e1_mu),lambd)), axis = 0)\n",
    "        '''\n",
    "        note that due to setup E1 will always be < 1 since denom > num always\n",
    "        '''\n",
    "        E2 = np.nanmean(np.transpose(np.power(np.transpose(self.e2_mu/self.e2_mu0),lambd)), axis = 0)\n",
    "        '''\n",
    "        note that due to setup E2 will always be > 1 since denom < num always\n",
    "        '''\n",
    "        #alpha = np.log(np.maximum(E1,E2))\n",
    "        alpha = np.log(np.maximum(E1,E2))\n",
    "        return alpha\n",
    "    \n",
    "    def compute_deltaEps(self):\n",
    "        # tail bound\n",
    "        #alpha = self._compute_moment(self.lambd) + self.alpha # note that this is the log moment!\n",
    "        alpha = self.alphaSum + self.alpha # note that this is the log moment!\n",
    "        self.alphaSum = alpha # update moment\n",
    "        if self.epsFixed:\n",
    "            # epsilon is kept fixed, compute delta\n",
    "            epsilon = self.epsilon\n",
    "            delta = np.min(np.exp(alpha-self.lambd*epsilon))\n",
    "            # TODO remove inf or nan <- does not seem necessary\n",
    "            if self.debug:\n",
    "                ind = np.argmin(np.exp(alpha-self.lambd*epsilon))\n",
    "                self.lambdArgmin.append(self.lambd[ind])\n",
    "        if self.deltaFixed:\n",
    "            # delta is kept fixed, compute epsilon\n",
    "            delta = self.delta\n",
    "            epsilon = (alpha-np.log(delta))/self.lambd\n",
    "            if self.debug:\n",
    "                ind = np.argmin(epsilon)\n",
    "                self.lambdArgmin.append(self.lambd[ind])\n",
    "            epsilon = np.min(epsilon)\n",
    "            # TODO remove inf or nan <- does not seem necessary\n",
    "        self.epsList.append(epsilon)\n",
    "        self.deltaList.append(delta)\n",
    "        return delta, epsilon\n",
    "    \n",
    "    def check_thresholds(self, delta: float, epsilon: float):\n",
    "        go = True\n",
    "        if self.epsFixed:\n",
    "            if self.th_delta < delta: \n",
    "                # delta threshold exceeded\n",
    "                go = False\n",
    "        if self.deltaFixed:\n",
    "            if self.th_epsilon < epsilon:\n",
    "                # epsilon threshold exceeded\n",
    "                go = False\n",
    "        return go\n",
    "    \n",
    "    def plot_traces(self):\n",
    "        if len(self.epsList) == 0:\n",
    "            raise Exception(\"Apply iterations on accountant instance before calling this function\")\n",
    "        elif not self.debug:\n",
    "            raise Exception(\"Debug was set to false, thus not all relevant data was collected\")\n",
    "        else:\n",
    "            # gather data\n",
    "            epsilon = np.array(self.epsList)\n",
    "            delta = np.array(self.deltaList)\n",
    "            lambdas = np.array(self.lambdArgmin)\n",
    "            print(f\"Delta fixed = {self.deltaFixed}| Last delta = {delta[-1]}\")\n",
    "            print(f\"Epsilon fixed = {self.epsFixed}| Last epsilon = {epsilon[-1]}\")\n",
    "            print(\"Fixed parameter will not be plotted \\n NOTE: Iteration arrays are returned\")\n",
    "            # plotting\n",
    "            iterations = np.arange(0,len(epsilon))\n",
    "            plt.figure()\n",
    "            if self.deltaFixed:\n",
    "                plt.plot(iterations,epsilon, label = 'epsilon')\n",
    "            else:\n",
    "                plt.plot(iterations,delta, label = 'delta')\n",
    "            #plt.legend(loc='upper left')\n",
    "            plt.title(\"epsilon or delta over iterations\")\n",
    "            \n",
    "            plt.figure()\n",
    "            plt.plot(iterations,lambdas)\n",
    "            plt.title(\"Lambda chosen over iterations\")\n",
    "            \n",
    "        return delta, epsilon, lambdas\n"
   ]
  },
  {
   "cell_type": "markdown",
   "metadata": {},
   "source": [
    "accountant = moment_accountant(seed, parameters_ma, deltaFixed = deltaFixed, epsFixed= epsFixed, debug = debug, epsilon = epsilon, th_delta = th_delta)\n",
    "for i in range(0,20):\n",
    "    print(accountant.compute_deltaEps())\n",
    "    #print(accountant.alphaSum)\n",
    "accountant.plot_traces()"
   ]
  },
  {
   "cell_type": "markdown",
   "metadata": {},
   "source": [
    "# TODO/QUESTIONS\n",
    "- Is the following assumption true: the moment accountant random variable is independent of the rest of the system (offline), that said it is only connected to the system by its continuous call to it (causing the moment to grow)\n",
    "- maxorder? 32 and also can it be floats?\n",
    "- ASSUMPTION: q is so small that essentially the pdf_mu0 distribution stands? is this correct?"
   ]
  },
  {
   "cell_type": "markdown",
   "metadata": {
    "colab_type": "text",
    "id": "HVFI54MpQUDp"
   },
   "source": [
    "## Differential privary variant of SGD\n"
   ]
  },
  {
   "cell_type": "code",
   "execution_count": 18,
   "metadata": {},
   "outputs": [],
   "source": [
    "class DP_SGD:\n",
    "    def __init__(self, lr = 0.01, sigma = 0.2, gs = 10, C = 1, seed = 2): # TODO; check defaults\n",
    "        self.lr = lr # learning rate\n",
    "        self.sigma = sigma # sigma, noise scale\n",
    "        self.gs = gs # group size\n",
    "        self.C = C # gradient norm bound\n",
    "        self.seed = seed\n",
    "        self.std = sigma*C # for noise addition\n",
    "        #self.loss_object = ? # define this here\n",
    "        \n",
    "    def apply_gradients(self, optimizer, model, loss_object, x, y):\n",
    "\n",
    "        #n = tf.shape(x).numpy()\n",
    "        ## run loop\n",
    "        with tf.GradientTape(persistent = True) as tape:\n",
    "            y_pred = model(x)\n",
    "            loss = loss_object(y, y_pred)\n",
    "            loss_red = tf.reduce_sum(loss, axis = 0)\n",
    "            \n",
    "            \n",
    "        #########\n",
    "        # MAIN PROBLEM: I only get a single set of gradients even if i have a loss function which outputs loss for every sample\n",
    "        # do you want me to parallelize this myself\n",
    "        ########\n",
    "        ## obtain gradients    \n",
    "        #grad = tape.batch_jacobian(loss, model.trainable_weights)\n",
    "        grad = tape.jacobian(loss, model.trainable_weights, parallel_iterations = None, experimental_use_pfor= False)\n",
    "        \n",
    "        ## clip gradients per layer\n",
    "        for l in range(len(grad)):\n",
    "            #clipper = tf.norm(grad[l], ord = 2, axis = 0)\n",
    "            dims = len(tf.shape(grad[l]))\n",
    "            clipper = tf.math.square(grad[l])\n",
    "            \n",
    "            if dims > 2:\n",
    "                # kernel layers\n",
    "                clipper = tf.reduce_sum(clipper, axis = [1,2])\n",
    "            else:\n",
    "                # bias layer\n",
    "                clipper = tf.reduce_sum(clipper, axis = -1)\n",
    "                \n",
    "            clipper = tf.math.sqrt(clipper)\n",
    "            clipper = tf.math.maximum(tf.constant([1], dtype = tf.dtypes.float32),clipper/self.C)\n",
    "            if dims > 2:\n",
    "                # kernel layers\n",
    "                clipper = tf.broadcast_to(tf.expand_dims(tf.expand_dims(clipper, -1), -1),tf.shape(grad[l]))\n",
    "            else:\n",
    "                # bias layer\n",
    "                clipper = tf.broadcast_to(tf.expand_dims(clipper, -1),tf.shape(grad[l]))\n",
    "            grad[l] = tf.math.divide(grad[l],clipper) # override\n",
    "                \n",
    "        ## add noise\n",
    "        for l in range(len(grad)): # loop over layers\n",
    "            grad_red = tf.math.reduce_sum(grad[l], axis = 0)\n",
    "            shape = tf.shape(grad_red)\n",
    "            noise = tf.random.normal(shape, mean = 0, stddev = self.std, dtype=tf.dtypes.float32, seed=self.seed)\n",
    "            grad[l] = tf.add(grad_red, noise)/self.gs\n",
    "            \n",
    "\n",
    "\n",
    "        ## descent\n",
    "        #print(grad)\n",
    "        '''\n",
    "        print(f'HELOO={len(grad)}')\n",
    "        print(f'HELOO={len(model.trainable_weights)}')\n",
    "        ga = []\n",
    "        ma = []\n",
    "        print(type(model.trainable_weights))\n",
    "        for l in range(len(model.trainable_weights)):\n",
    "            ga.append(tf.shape(grad[l]).numpy())\n",
    "            ma.append(tf.shape(model.trainable_weights[l]).numpy())\n",
    "        zipp = list(zip(ga,ma))\n",
    "        print(zipp)\n",
    "        \n",
    "        #print(model.trainable_weights)\n",
    "        '''\n",
    "        \n",
    "        optimizer.apply_gradients(zip(grad,model.trainable_weights))\n",
    "            \n",
    "        ## collect\n",
    "    \n",
    "        return y_pred,loss_red \n",
    "        \n",
    "        "
   ]
  },
  {
   "cell_type": "markdown",
   "metadata": {},
   "source": [
    "# CLIPTOTAL VARIANT\n",
    "class DP_SGD:\n",
    "    def __init__(self, lr = 0.01, sigma = 0.2, gs = 10, C = 1, seed = 2): # TODO; check defaults\n",
    "        self.lr = lr # learning rate\n",
    "        self.sigma = sigma # sigma, noise scale\n",
    "        self.gs = gs # group size\n",
    "        self.C = C # gradient norm bound\n",
    "        self.seed = seed\n",
    "        self.std = sigma*C # for noise addition\n",
    "        #self.loss_object = ? # define this here\n",
    "        \n",
    "    def apply_gradients(self, optimizer, model, loss_object, x, y):\n",
    "\n",
    "        #n = tf.shape(x).numpy()\n",
    "        ## run loop\n",
    "        with tf.GradientTape(persistent = True) as tape:\n",
    "            y_pred = model(x)\n",
    "            loss = loss_object(y, y_pred)\n",
    "            loss_red = tf.reduce_sum(loss, axis = 0)\n",
    "            \n",
    "            \n",
    "        #########\n",
    "        # MAIN PROBLEM: I only get a single set of gradients even if i have a loss function which outputs loss for every sample\n",
    "        # do you want me to parallelize this myself\n",
    "        ########\n",
    "        ## obtain gradients    \n",
    "        #grad = tape.batch_jacobian(loss, model.trainable_weights)\n",
    "        grad = tape.jacobian(loss, model.trainable_weights, parallel_iterations = None, experimental_use_pfor= False)\n",
    "        clipTotal = tf.constant([0], dtype = tf.dtypes.float32)\n",
    "        \n",
    "        ## clip gradients per layer\n",
    "        for l in range(len(grad)):\n",
    "            #clipper = tf.norm(grad[l], ord = 2, axis = 0)\n",
    "            dims = len(tf.shape(grad[l]))\n",
    "            clipper = tf.math.square(grad[l])\n",
    "            \n",
    "            if dims > 2:\n",
    "                # kernel layers\n",
    "                clipper = tf.reduce_sum(clipper, axis = [1,2])\n",
    "            else:\n",
    "                # bias layer\n",
    "                clipper = tf.reduce_sum(clipper, axis = -1)\n",
    "                \n",
    "            clipTotal = tf.add(clipTotal, clipper)\n",
    "            \n",
    "        clipTotal = tf.math.sqrt(clipTotal)\n",
    "        clipTotal = tf.math.maximum(tf.constant([1], dtype = tf.dtypes.float32),clipTotal/self.C)\n",
    "                \n",
    "        ## add noise\n",
    "        for l in range(len(grad)): # loop over layers\n",
    "            dims = len(tf.shape(grad[l]))\n",
    "            if dims > 2:\n",
    "                # kernel layers\n",
    "                clipper = tf.broadcast_to(tf.expand_dims(tf.expand_dims(clipTotal, -1), -1),tf.shape(grad[l]))\n",
    "            else:\n",
    "                # bias layer\n",
    "                clipper = tf.broadcast_to(tf.expand_dims(clipTotal, -1),tf.shape(grad[l]))\n",
    "            grad[l] = tf.math.divide(grad[l],clipper) # override\n",
    "            \n",
    "            grad_red = tf.math.reduce_sum(grad[l], axis = 0)\n",
    "            shape = tf.shape(grad_red)\n",
    "            noise = tf.random.normal(shape, mean = 0, stddev = self.std, dtype=tf.dtypes.float32, seed=self.seed)\n",
    "            grad[l] = tf.add(grad_red, noise)/self.gs\n",
    "            \n",
    "        ## descent\n",
    "        optimizer.apply_gradients(zip(grad,model.trainable_weights))\n",
    "            \n",
    "        ## collect\n",
    "    \n",
    "        return y_pred,loss_red "
   ]
  },
  {
   "cell_type": "markdown",
   "metadata": {},
   "source": [
    "## Building Training Loop"
   ]
  },
  {
   "cell_type": "code",
   "execution_count": 13,
   "metadata": {},
   "outputs": [],
   "source": [
    "def apply_gradient(optimizer, model, x, y):\n",
    "    with tf.GradientTape() as tape:\n",
    "        logits = model(x)\n",
    "        loss_value = loss_object(y_true=y, y_pred=logits)\n",
    "\n",
    "    gradients = tape.gradient(loss_value, model.trainable_weights)\n",
    "    optimizer.apply_gradients(zip(gradients, model.trainable_weights)) # ZIP ENSURES THAT GRADIENTS IS APPLIED TO EVERY LAYER CORRECTLY (SINCE EVERY LAYER HAS W & b != not 1 variable)\n",
    "\n",
    "    return logits, loss_value"
   ]
  },
  {
   "cell_type": "code",
   "execution_count": 14,
   "metadata": {},
   "outputs": [],
   "source": [
    "def train_data_for_one_epoch(dp_sgd, optimizer, model, loss_object, moment_accountant):\n",
    "    losses = []\n",
    "    pbar = tqdm(total=len(list(enumerate(train))), position=0, leave=True, bar_format='{l_bar}{bar}| {n_fmt}/{total_fmt} ') # progress bar\n",
    "    go = True\n",
    "    step = 0 \n",
    "    for x_batch_train, y_batch_train in train:\n",
    "        step += 1\n",
    "        logits, loss_value = dp_sgd.apply_gradients(optimizer, model, loss_object, x_batch_train, y_batch_train)\n",
    "        #logits, loss_value = apply_gradient(optimizer, model, x_batch_train, y_batch_train)\n",
    "        delta, eps = moment_accountant.compute_deltaEps()\n",
    "        \n",
    "        losses.append(loss_value)\n",
    "\n",
    "        train_acc_metric(y_batch_train, logits)\n",
    "        pbar.set_description(\"Training loss for step %s: %.4f\" % (int(step), float(loss_value)))\n",
    "        pbar.update()\n",
    "        \n",
    "        if not moment_accountant.check_thresholds(delta, epsilon):\n",
    "            go = False\n",
    "            break\n",
    "    print(f\"Delta = {delta} | Epsilon = {epsilon}\")\n",
    "    return losses, go"
   ]
  },
  {
   "cell_type": "markdown",
   "metadata": {
    "colab_type": "text",
    "id": "kBZyXnuUQxVn"
   },
   "source": [
    "At the end of each epoch you have to validate the model on the test dataset. The following function calculates the loss on test dataset and updates the states of the validation metrics."
   ]
  },
  {
   "cell_type": "code",
   "execution_count": 15,
   "metadata": {
    "colab": {},
    "colab_type": "code",
    "id": "5gLJyAJE0YRc"
   },
   "outputs": [],
   "source": [
    "def perform_validation():\n",
    "    losses = []\n",
    "    for x_val, y_val in test:\n",
    "        val_logits = model(x_val)\n",
    "        val_loss = loss_object(y_val, val_logits)\n",
    "        #val_loss = tf.reduce_sum(val_loss, axis = 0).numpy()\n",
    "        losses.append(val_loss)\n",
    "        val_acc_metric(y_val, val_logits)\n",
    "    return losses"
   ]
  },
  {
   "cell_type": "code",
   "execution_count": 19,
   "metadata": {},
   "outputs": [
    {
     "name": "stdout",
     "output_type": "stream",
     "text": [
      "Maxorder = 32, with order array:\n",
      "[ 0  1  2  3  4  5  6  7  8  9 10 11 12 13 14 15 16 17 18 19 20 21 22 23\n",
      " 24 25 26 27 28 29 30 31 32]\n",
      "keeping epsilon fixed\n",
      "moment accountant setup complete\n",
      "Delta fixed = False| Last delta = 7.3130754258017764e-06\n",
      "Epsilon fixed = True| Last epsilon = 2\n",
      "Fixed parameter will not be plotted \n",
      " NOTE: Iteration arrays are returned\n"
     ]
    },
    {
     "data": {
      "text/plain": [
       "(array([1.61157896e-28, 1.61938465e-28, 1.62722815e-28, ...,\n",
       "        7.28717560e-06, 7.30011403e-06, 7.31307543e-06]),\n",
       " array([2, 2, 2, ..., 2, 2, 2]),\n",
       " array([32, 32, 32, ..., 17, 17, 17]))"
      ]
     },
     "execution_count": 19,
     "metadata": {},
     "output_type": "execute_result"
    },
    {
     "data": {
      "image/png": "[encoded data removed]",
      "text/plain": [
       "<Figure size 432x288 with 1 Axes>"
      ]
     },
     "metadata": {
      "needs_background": "light"
     },
     "output_type": "display_data"
    },
    {
     "data": {
      "image/png": "[encoded data removed]",
      "text/plain": [
       "<Figure size 432x288 with 1 Axes>"
      ]
     },
     "metadata": {
      "needs_background": "light"
     },
     "output_type": "display_data"
    }
   ],
   "source": [
    "accountant = moment_accountant(seed, parameters_ma, deltaFixed = deltaFixed, epsFixed= epsFixed, debug = debug, epsilon = epsilon, th_delta = th_delta)\n",
    "for i in range(12500):\n",
    "    accountant.compute_deltaEps()\n",
    "accountant.plot_traces()"
   ]
  },
  {
   "cell_type": "code",
   "execution_count": 16,
   "metadata": {
    "colab": {},
    "colab_type": "code",
    "id": "OOO1x3VyuPUV"
   },
   "outputs": [
    {
     "name": "stdout",
     "output_type": "stream",
     "text": [
      "WARNING:tensorflow:AutoGraph could not transform <bound method DP_PCA.call of <__main__.DP_PCA object at 0x0000017838793F48>> and will run it as-is.\n",
      "Please report this to the TensorFlow team. When filing the bug, set the verbosity to 10 (on Linux, `export AUTOGRAPH_VERBOSITY=10`) and attach the full output.\n",
      "Cause: module 'gast' has no attribute 'Constant'\n",
      "To silence this warning, decorate the function with @tf.autograph.experimental.do_not_convert\n",
      "Model: \"model\"\n",
      "_________________________________________________________________\n",
      " Layer (type)                Output Shape              Param #   \n",
      "=================================================================\n",
      " digits (InputLayer)         [(None, 784)]             0         \n",
      "                                                                 \n",
      " dp_pca (DP_PCA)             (None, 60)                0         \n",
      "                                                                 \n",
      " dense_1 (Dense)             (None, 1000)              61000     \n",
      "                                                                 \n",
      " predictions (Dense)         (None, 10)                10010     \n",
      "                                                                 \n",
      "=================================================================\n",
      "Total params: 71,010\n",
      "Trainable params: 71,010\n",
      "Non-trainable params: 0\n",
      "_________________________________________________________________\n"
     ]
    },
    {
     "name": "stderr",
     "output_type": "stream",
     "text": [
      "  0%|                                                                                                          | 0/100 "
     ]
    },
    {
     "name": "stdout",
     "output_type": "stream",
     "text": [
      "\n",
      " Epsilon kept fixed \n",
      "\n",
      "Maxorder = 32, with order array:\n",
      "[ 1  2  3  4  5  6  7  8  9 10 11 12 13 14 15 16 17 18 19 20 21 22 23 24\n",
      " 25 26 27 28 29 30 31 32]\n",
      "keeping epsilon fixed\n",
      "moment accountant setup complete\n",
      "Start of epoch 0\n"
     ]
    },
    {
     "name": "stderr",
     "output_type": "stream",
     "text": [
      "Training loss for step 100: 430.8535: 100%|██████████████████████████████████████████████████████████████████| 100/100 "
     ]
    },
    {
     "name": "stdout",
     "output_type": "stream",
     "text": [
      "Delta = 1.4758626944157784e-07 | Epsilon = 0.5\n"
     ]
    },
    {
     "name": "stderr",
     "output_type": "stream",
     "text": [
      "  0%|                                                                                                          | 0/100 "
     ]
    },
    {
     "name": "stdout",
     "output_type": "stream",
     "text": [
      "\n",
      " Epoch 0: Train loss: 771.5447  Validation Loss: 0.7332, Train Accuracy: 0.6049, Validation Accuracy 0.7786\n",
      "Start of epoch 1\n"
     ]
    },
    {
     "name": "stderr",
     "output_type": "stream",
     "text": [
      "Training loss for step 3: 489.6414:   3%|██                                                                    | 3/100 "
     ]
    },
    {
     "ename": "KeyboardInterrupt",
     "evalue": "",
     "output_type": "error",
     "traceback": [
      "\u001b[1;31m---------------------------------------------------------------------------\u001b[0m",
      "\u001b[1;31mKeyboardInterrupt\u001b[0m                         Traceback (most recent call last)",
      "\u001b[1;32m<ipython-input-16-b11f149abd8c>\u001b[0m in \u001b[0;36m<module>\u001b[1;34m\u001b[0m\n\u001b[0;32m     17\u001b[0m     \u001b[0mprint\u001b[0m\u001b[1;33m(\u001b[0m\u001b[1;34m'Start of epoch %d'\u001b[0m \u001b[1;33m%\u001b[0m \u001b[1;33m(\u001b[0m\u001b[0mepoch\u001b[0m\u001b[1;33m,\u001b[0m\u001b[1;33m)\u001b[0m\u001b[1;33m)\u001b[0m\u001b[1;33m\u001b[0m\u001b[1;33m\u001b[0m\u001b[0m\n\u001b[0;32m     18\u001b[0m \u001b[1;33m\u001b[0m\u001b[0m\n\u001b[1;32m---> 19\u001b[1;33m     \u001b[0mlosses_train\u001b[0m\u001b[1;33m,\u001b[0m \u001b[0mgo\u001b[0m \u001b[1;33m=\u001b[0m \u001b[0mtrain_data_for_one_epoch\u001b[0m\u001b[1;33m(\u001b[0m\u001b[0mDPSGD\u001b[0m\u001b[1;33m,\u001b[0m \u001b[0moptimizer\u001b[0m\u001b[1;33m,\u001b[0m \u001b[0mmodel\u001b[0m\u001b[1;33m,\u001b[0m \u001b[0mloss_object\u001b[0m\u001b[1;33m,\u001b[0m \u001b[0maccountant\u001b[0m\u001b[1;33m)\u001b[0m\u001b[1;33m\u001b[0m\u001b[1;33m\u001b[0m\u001b[0m\n\u001b[0m\u001b[0;32m     20\u001b[0m     \u001b[0mtrain_acc\u001b[0m \u001b[1;33m=\u001b[0m \u001b[0mtrain_acc_metric\u001b[0m\u001b[1;33m.\u001b[0m\u001b[0mresult\u001b[0m\u001b[1;33m(\u001b[0m\u001b[1;33m)\u001b[0m\u001b[1;33m\u001b[0m\u001b[1;33m\u001b[0m\u001b[0m\n\u001b[0;32m     21\u001b[0m \u001b[1;33m\u001b[0m\u001b[0m\n",
      "\u001b[1;32m<ipython-input-14-8edaad4467be>\u001b[0m in \u001b[0;36mtrain_data_for_one_epoch\u001b[1;34m(dp_sgd, optimizer, model, loss_object, moment_accountant)\u001b[0m\n\u001b[0;32m      6\u001b[0m     \u001b[1;32mfor\u001b[0m \u001b[0mx_batch_train\u001b[0m\u001b[1;33m,\u001b[0m \u001b[0my_batch_train\u001b[0m \u001b[1;32min\u001b[0m \u001b[0mtrain\u001b[0m\u001b[1;33m:\u001b[0m\u001b[1;33m\u001b[0m\u001b[1;33m\u001b[0m\u001b[0m\n\u001b[0;32m      7\u001b[0m         \u001b[0mstep\u001b[0m \u001b[1;33m+=\u001b[0m \u001b[1;36m1\u001b[0m\u001b[1;33m\u001b[0m\u001b[1;33m\u001b[0m\u001b[0m\n\u001b[1;32m----> 8\u001b[1;33m         \u001b[0mlogits\u001b[0m\u001b[1;33m,\u001b[0m \u001b[0mloss_value\u001b[0m \u001b[1;33m=\u001b[0m \u001b[0mdp_sgd\u001b[0m\u001b[1;33m.\u001b[0m\u001b[0mapply_gradients\u001b[0m\u001b[1;33m(\u001b[0m\u001b[0moptimizer\u001b[0m\u001b[1;33m,\u001b[0m \u001b[0mmodel\u001b[0m\u001b[1;33m,\u001b[0m \u001b[0mloss_object\u001b[0m\u001b[1;33m,\u001b[0m \u001b[0mx_batch_train\u001b[0m\u001b[1;33m,\u001b[0m \u001b[0my_batch_train\u001b[0m\u001b[1;33m)\u001b[0m\u001b[1;33m\u001b[0m\u001b[1;33m\u001b[0m\u001b[0m\n\u001b[0m\u001b[0;32m      9\u001b[0m         \u001b[1;31m#logits, loss_value = apply_gradient(optimizer, model, x_batch_train, y_batch_train)\u001b[0m\u001b[1;33m\u001b[0m\u001b[1;33m\u001b[0m\u001b[1;33m\u001b[0m\u001b[0m\n\u001b[0;32m     10\u001b[0m         \u001b[0mdelta\u001b[0m\u001b[1;33m,\u001b[0m \u001b[0meps\u001b[0m \u001b[1;33m=\u001b[0m \u001b[0mmoment_accountant\u001b[0m\u001b[1;33m.\u001b[0m\u001b[0mcompute_deltaEps\u001b[0m\u001b[1;33m(\u001b[0m\u001b[1;33m)\u001b[0m\u001b[1;33m\u001b[0m\u001b[1;33m\u001b[0m\u001b[0m\n",
      "\u001b[1;32m<ipython-input-12-aa7eb82d9618>\u001b[0m in \u001b[0;36mapply_gradients\u001b[1;34m(self, optimizer, model, loss_object, x, y)\u001b[0m\n\u001b[0;32m     25\u001b[0m         \u001b[1;31m## obtain gradients\u001b[0m\u001b[1;33m\u001b[0m\u001b[1;33m\u001b[0m\u001b[1;33m\u001b[0m\u001b[0m\n\u001b[0;32m     26\u001b[0m         \u001b[1;31m#grad = tape.batch_jacobian(loss, model.trainable_weights)\u001b[0m\u001b[1;33m\u001b[0m\u001b[1;33m\u001b[0m\u001b[1;33m\u001b[0m\u001b[0m\n\u001b[1;32m---> 27\u001b[1;33m         \u001b[0mgrad\u001b[0m \u001b[1;33m=\u001b[0m \u001b[0mtape\u001b[0m\u001b[1;33m.\u001b[0m\u001b[0mjacobian\u001b[0m\u001b[1;33m(\u001b[0m\u001b[0mloss\u001b[0m\u001b[1;33m,\u001b[0m \u001b[0mmodel\u001b[0m\u001b[1;33m.\u001b[0m\u001b[0mtrainable_weights\u001b[0m\u001b[1;33m,\u001b[0m \u001b[0mparallel_iterations\u001b[0m \u001b[1;33m=\u001b[0m \u001b[1;32mNone\u001b[0m\u001b[1;33m,\u001b[0m \u001b[0mexperimental_use_pfor\u001b[0m\u001b[1;33m=\u001b[0m \u001b[1;32mFalse\u001b[0m\u001b[1;33m)\u001b[0m\u001b[1;33m\u001b[0m\u001b[1;33m\u001b[0m\u001b[0m\n\u001b[0m\u001b[0;32m     28\u001b[0m \u001b[1;33m\u001b[0m\u001b[0m\n\u001b[0;32m     29\u001b[0m         \u001b[1;31m## clip gradients per layer\u001b[0m\u001b[1;33m\u001b[0m\u001b[1;33m\u001b[0m\u001b[1;33m\u001b[0m\u001b[0m\n",
      "\u001b[1;32m~\\AppData\\Roaming\\Python\\Python37\\site-packages\\tensorflow\\python\\eager\\backprop.py\u001b[0m in \u001b[0;36mjacobian\u001b[1;34m(self, target, sources, unconnected_gradients, parallel_iterations, experimental_use_pfor)\u001b[0m\n\u001b[0;32m   1198\u001b[0m       output = pfor_ops.for_loop(\n\u001b[0;32m   1199\u001b[0m           \u001b[0mloop_fn\u001b[0m\u001b[1;33m,\u001b[0m \u001b[1;33m[\u001b[0m\u001b[0mtarget\u001b[0m\u001b[1;33m.\u001b[0m\u001b[0mdtype\u001b[0m\u001b[1;33m]\u001b[0m \u001b[1;33m*\u001b[0m \u001b[0mlen\u001b[0m\u001b[1;33m(\u001b[0m\u001b[0mflat_sources\u001b[0m\u001b[1;33m)\u001b[0m\u001b[1;33m,\u001b[0m \u001b[0mtarget_size\u001b[0m\u001b[1;33m,\u001b[0m\u001b[1;33m\u001b[0m\u001b[1;33m\u001b[0m\u001b[0m\n\u001b[1;32m-> 1200\u001b[1;33m           parallel_iterations=parallel_iterations)\n\u001b[0m\u001b[0;32m   1201\u001b[0m \u001b[1;33m\u001b[0m\u001b[0m\n\u001b[0;32m   1202\u001b[0m     \u001b[1;32mfor\u001b[0m \u001b[0mi\u001b[0m\u001b[1;33m,\u001b[0m \u001b[0mout\u001b[0m \u001b[1;32min\u001b[0m \u001b[0menumerate\u001b[0m\u001b[1;33m(\u001b[0m\u001b[0moutput\u001b[0m\u001b[1;33m)\u001b[0m\u001b[1;33m:\u001b[0m\u001b[1;33m\u001b[0m\u001b[1;33m\u001b[0m\u001b[0m\n",
      "\u001b[1;32m~\\AppData\\Roaming\\Python\\Python37\\site-packages\\tensorflow\\python\\ops\\parallel_for\\control_flow_ops.py\u001b[0m in \u001b[0;36mfor_loop\u001b[1;34m(loop_fn, loop_fn_dtypes, iters, parallel_iterations)\u001b[0m\n\u001b[0;32m     92\u001b[0m       [0] + [tensor_array_ops.TensorArray(dtype.base_dtype, iters)\n\u001b[0;32m     93\u001b[0m              for dtype in flat_loop_fn_dtypes],\n\u001b[1;32m---> 94\u001b[1;33m       **extra_args)[1:]\n\u001b[0m\u001b[0;32m     95\u001b[0m \u001b[1;33m\u001b[0m\u001b[0m\n\u001b[0;32m     96\u001b[0m   \u001b[1;31m# TODO(rachelim): enable this for sparse tensors\u001b[0m\u001b[1;33m\u001b[0m\u001b[1;33m\u001b[0m\u001b[1;33m\u001b[0m\u001b[0m\n",
      "\u001b[1;32m~\\AppData\\Roaming\\Python\\Python37\\site-packages\\tensorflow\\python\\ops\\control_flow_ops.py\u001b[0m in \u001b[0;36mwhile_loop\u001b[1;34m(cond, body, loop_vars, shape_invariants, parallel_iterations, back_prop, swap_memory, name, maximum_iterations, return_same_structure)\u001b[0m\n\u001b[0;32m   2793\u001b[0m                                               list(loop_vars))\n\u001b[0;32m   2794\u001b[0m       \u001b[1;32mwhile\u001b[0m \u001b[0mcond\u001b[0m\u001b[1;33m(\u001b[0m\u001b[1;33m*\u001b[0m\u001b[0mloop_vars\u001b[0m\u001b[1;33m)\u001b[0m\u001b[1;33m:\u001b[0m\u001b[1;33m\u001b[0m\u001b[1;33m\u001b[0m\u001b[0m\n\u001b[1;32m-> 2795\u001b[1;33m         \u001b[0mloop_vars\u001b[0m \u001b[1;33m=\u001b[0m \u001b[0mbody\u001b[0m\u001b[1;33m(\u001b[0m\u001b[1;33m*\u001b[0m\u001b[0mloop_vars\u001b[0m\u001b[1;33m)\u001b[0m\u001b[1;33m\u001b[0m\u001b[1;33m\u001b[0m\u001b[0m\n\u001b[0m\u001b[0;32m   2796\u001b[0m         \u001b[1;32mif\u001b[0m \u001b[0mtry_to_pack\u001b[0m \u001b[1;32mand\u001b[0m \u001b[1;32mnot\u001b[0m \u001b[0misinstance\u001b[0m\u001b[1;33m(\u001b[0m\u001b[0mloop_vars\u001b[0m\u001b[1;33m,\u001b[0m \u001b[1;33m(\u001b[0m\u001b[0mlist\u001b[0m\u001b[1;33m,\u001b[0m \u001b[0m_basetuple\u001b[0m\u001b[1;33m)\u001b[0m\u001b[1;33m)\u001b[0m\u001b[1;33m:\u001b[0m\u001b[1;33m\u001b[0m\u001b[1;33m\u001b[0m\u001b[0m\n\u001b[0;32m   2797\u001b[0m           \u001b[0mpacked\u001b[0m \u001b[1;33m=\u001b[0m \u001b[1;32mTrue\u001b[0m\u001b[1;33m\u001b[0m\u001b[1;33m\u001b[0m\u001b[0m\n",
      "\u001b[1;32m~\\AppData\\Roaming\\Python\\Python37\\site-packages\\tensorflow\\python\\ops\\parallel_for\\control_flow_ops.py\u001b[0m in \u001b[0;36mwhile_body\u001b[1;34m(i, *ta_list)\u001b[0m\n\u001b[0;32m     66\u001b[0m   \u001b[1;32mdef\u001b[0m \u001b[0mwhile_body\u001b[0m\u001b[1;33m(\u001b[0m\u001b[0mi\u001b[0m\u001b[1;33m,\u001b[0m \u001b[1;33m*\u001b[0m\u001b[0mta_list\u001b[0m\u001b[1;33m)\u001b[0m\u001b[1;33m:\u001b[0m\u001b[1;33m\u001b[0m\u001b[1;33m\u001b[0m\u001b[0m\n\u001b[0;32m     67\u001b[0m     \u001b[1;34m\"\"\"Body of while loop.\"\"\"\u001b[0m\u001b[1;33m\u001b[0m\u001b[1;33m\u001b[0m\u001b[0m\n\u001b[1;32m---> 68\u001b[1;33m     \u001b[0mfn_output\u001b[0m \u001b[1;33m=\u001b[0m \u001b[0mnest\u001b[0m\u001b[1;33m.\u001b[0m\u001b[0mflatten\u001b[0m\u001b[1;33m(\u001b[0m\u001b[0mloop_fn\u001b[0m\u001b[1;33m(\u001b[0m\u001b[0mi\u001b[0m\u001b[1;33m)\u001b[0m\u001b[1;33m)\u001b[0m\u001b[1;33m\u001b[0m\u001b[1;33m\u001b[0m\u001b[0m\n\u001b[0m\u001b[0;32m     69\u001b[0m     \u001b[1;32mif\u001b[0m \u001b[0mlen\u001b[0m\u001b[1;33m(\u001b[0m\u001b[0mfn_output\u001b[0m\u001b[1;33m)\u001b[0m \u001b[1;33m!=\u001b[0m \u001b[0mlen\u001b[0m\u001b[1;33m(\u001b[0m\u001b[0mflat_loop_fn_dtypes\u001b[0m\u001b[1;33m)\u001b[0m\u001b[1;33m:\u001b[0m\u001b[1;33m\u001b[0m\u001b[1;33m\u001b[0m\u001b[0m\n\u001b[0;32m     70\u001b[0m       raise ValueError(\n",
      "\u001b[1;32m~\\AppData\\Roaming\\Python\\Python37\\site-packages\\tensorflow\\python\\eager\\backprop.py\u001b[0m in \u001b[0;36mloop_fn\u001b[1;34m(i)\u001b[0m\n\u001b[0;32m   1171\u001b[0m         \u001b[0my\u001b[0m \u001b[1;33m=\u001b[0m \u001b[0marray_ops\u001b[0m\u001b[1;33m.\u001b[0m\u001b[0mgather\u001b[0m\u001b[1;33m(\u001b[0m\u001b[0mtarget\u001b[0m\u001b[1;33m,\u001b[0m \u001b[0mi\u001b[0m\u001b[1;33m)\u001b[0m\u001b[1;33m\u001b[0m\u001b[1;33m\u001b[0m\u001b[0m\n\u001b[0;32m   1172\u001b[0m       return self.gradient(y, flat_sources,\n\u001b[1;32m-> 1173\u001b[1;33m                            unconnected_gradients=unconnected_gradients)\n\u001b[0m\u001b[0;32m   1174\u001b[0m \u001b[1;33m\u001b[0m\u001b[0m\n\u001b[0;32m   1175\u001b[0m     \u001b[1;32mtry\u001b[0m\u001b[1;33m:\u001b[0m\u001b[1;33m\u001b[0m\u001b[1;33m\u001b[0m\u001b[0m\n",
      "\u001b[1;32m~\\AppData\\Roaming\\Python\\Python37\\site-packages\\tensorflow\\python\\eager\\backprop.py\u001b[0m in \u001b[0;36mgradient\u001b[1;34m(self, target, sources, output_gradients, unconnected_gradients)\u001b[0m\n\u001b[0;32m   1085\u001b[0m         \u001b[0moutput_gradients\u001b[0m\u001b[1;33m=\u001b[0m\u001b[0moutput_gradients\u001b[0m\u001b[1;33m,\u001b[0m\u001b[1;33m\u001b[0m\u001b[1;33m\u001b[0m\u001b[0m\n\u001b[0;32m   1086\u001b[0m         \u001b[0msources_raw\u001b[0m\u001b[1;33m=\u001b[0m\u001b[0mflat_sources_raw\u001b[0m\u001b[1;33m,\u001b[0m\u001b[1;33m\u001b[0m\u001b[1;33m\u001b[0m\u001b[0m\n\u001b[1;32m-> 1087\u001b[1;33m         unconnected_gradients=unconnected_gradients)\n\u001b[0m\u001b[0;32m   1088\u001b[0m \u001b[1;33m\u001b[0m\u001b[0m\n\u001b[0;32m   1089\u001b[0m     \u001b[1;32mif\u001b[0m \u001b[1;32mnot\u001b[0m \u001b[0mself\u001b[0m\u001b[1;33m.\u001b[0m\u001b[0m_persistent\u001b[0m\u001b[1;33m:\u001b[0m\u001b[1;33m\u001b[0m\u001b[1;33m\u001b[0m\u001b[0m\n",
      "\u001b[1;32m~\\AppData\\Roaming\\Python\\Python37\\site-packages\\tensorflow\\python\\eager\\imperative_grad.py\u001b[0m in \u001b[0;36mimperative_grad\u001b[1;34m(tape, target, sources, output_gradients, sources_raw, unconnected_gradients)\u001b[0m\n\u001b[0;32m     71\u001b[0m       \u001b[0moutput_gradients\u001b[0m\u001b[1;33m,\u001b[0m\u001b[1;33m\u001b[0m\u001b[1;33m\u001b[0m\u001b[0m\n\u001b[0;32m     72\u001b[0m       \u001b[0msources_raw\u001b[0m\u001b[1;33m,\u001b[0m\u001b[1;33m\u001b[0m\u001b[1;33m\u001b[0m\u001b[0m\n\u001b[1;32m---> 73\u001b[1;33m       compat.as_str(unconnected_gradients.value))\n\u001b[0m",
      "\u001b[1;32m~\\AppData\\Roaming\\Python\\Python37\\site-packages\\tensorflow\\python\\eager\\backprop.py\u001b[0m in \u001b[0;36m_gradient_function\u001b[1;34m(op_name, attr_tuple, num_inputs, inputs, outputs, out_grads, skip_input_indices, forward_pass_name_scope)\u001b[0m\n\u001b[0;32m    154\u001b[0m       \u001b[0mgradient_name_scope\u001b[0m \u001b[1;33m+=\u001b[0m \u001b[0mforward_pass_name_scope\u001b[0m \u001b[1;33m+\u001b[0m \u001b[1;34m\"/\"\u001b[0m\u001b[1;33m\u001b[0m\u001b[1;33m\u001b[0m\u001b[0m\n\u001b[0;32m    155\u001b[0m     \u001b[1;32mwith\u001b[0m \u001b[0mops\u001b[0m\u001b[1;33m.\u001b[0m\u001b[0mname_scope\u001b[0m\u001b[1;33m(\u001b[0m\u001b[0mgradient_name_scope\u001b[0m\u001b[1;33m)\u001b[0m\u001b[1;33m:\u001b[0m\u001b[1;33m\u001b[0m\u001b[1;33m\u001b[0m\u001b[0m\n\u001b[1;32m--> 156\u001b[1;33m       \u001b[1;32mreturn\u001b[0m \u001b[0mgrad_fn\u001b[0m\u001b[1;33m(\u001b[0m\u001b[0mmock_op\u001b[0m\u001b[1;33m,\u001b[0m \u001b[1;33m*\u001b[0m\u001b[0mout_grads\u001b[0m\u001b[1;33m)\u001b[0m\u001b[1;33m\u001b[0m\u001b[1;33m\u001b[0m\u001b[0m\n\u001b[0m\u001b[0;32m    157\u001b[0m   \u001b[1;32melse\u001b[0m\u001b[1;33m:\u001b[0m\u001b[1;33m\u001b[0m\u001b[1;33m\u001b[0m\u001b[0m\n\u001b[0;32m    158\u001b[0m     \u001b[1;32mreturn\u001b[0m \u001b[0mgrad_fn\u001b[0m\u001b[1;33m(\u001b[0m\u001b[0mmock_op\u001b[0m\u001b[1;33m,\u001b[0m \u001b[1;33m*\u001b[0m\u001b[0mout_grads\u001b[0m\u001b[1;33m)\u001b[0m\u001b[1;33m\u001b[0m\u001b[1;33m\u001b[0m\u001b[0m\n",
      "\u001b[1;32m~\\AppData\\Roaming\\Python\\Python37\\site-packages\\tensorflow\\python\\ops\\array_grad.py\u001b[0m in \u001b[0;36m_GatherV2Grad\u001b[1;34m(op, grad)\u001b[0m\n\u001b[0;32m    647\u001b[0m   \u001b[1;32mwith\u001b[0m \u001b[0mops\u001b[0m\u001b[1;33m.\u001b[0m\u001b[0mcolocate_with\u001b[0m\u001b[1;33m(\u001b[0m\u001b[0mparams\u001b[0m\u001b[1;33m)\u001b[0m\u001b[1;33m:\u001b[0m\u001b[1;33m\u001b[0m\u001b[1;33m\u001b[0m\u001b[0m\n\u001b[0;32m    648\u001b[0m     \u001b[0mparams_shape\u001b[0m \u001b[1;33m=\u001b[0m \u001b[0marray_ops\u001b[0m\u001b[1;33m.\u001b[0m\u001b[0mshape\u001b[0m\u001b[1;33m(\u001b[0m\u001b[0mparams\u001b[0m\u001b[1;33m,\u001b[0m \u001b[0mout_type\u001b[0m\u001b[1;33m=\u001b[0m\u001b[0mops\u001b[0m\u001b[1;33m.\u001b[0m\u001b[0mdtypes\u001b[0m\u001b[1;33m.\u001b[0m\u001b[0mint64\u001b[0m\u001b[1;33m)\u001b[0m\u001b[1;33m\u001b[0m\u001b[1;33m\u001b[0m\u001b[0m\n\u001b[1;32m--> 649\u001b[1;33m     \u001b[0mparams_shape\u001b[0m \u001b[1;33m=\u001b[0m \u001b[0mmath_ops\u001b[0m\u001b[1;33m.\u001b[0m\u001b[0mcast\u001b[0m\u001b[1;33m(\u001b[0m\u001b[0mparams_shape\u001b[0m\u001b[1;33m,\u001b[0m \u001b[0mdtypes\u001b[0m\u001b[1;33m.\u001b[0m\u001b[0mint32\u001b[0m\u001b[1;33m)\u001b[0m\u001b[1;33m\u001b[0m\u001b[1;33m\u001b[0m\u001b[0m\n\u001b[0m\u001b[0;32m    650\u001b[0m \u001b[1;33m\u001b[0m\u001b[0m\n\u001b[0;32m    651\u001b[0m   \u001b[0mindices\u001b[0m \u001b[1;33m=\u001b[0m \u001b[0mop\u001b[0m\u001b[1;33m.\u001b[0m\u001b[0minputs\u001b[0m\u001b[1;33m[\u001b[0m\u001b[1;36m1\u001b[0m\u001b[1;33m]\u001b[0m\u001b[1;33m\u001b[0m\u001b[1;33m\u001b[0m\u001b[0m\n",
      "\u001b[1;32m~\\AppData\\Roaming\\Python\\Python37\\site-packages\\tensorflow\\python\\util\\traceback_utils.py\u001b[0m in \u001b[0;36merror_handler\u001b[1;34m(*args, **kwargs)\u001b[0m\n\u001b[0;32m    148\u001b[0m     \u001b[0mfiltered_tb\u001b[0m \u001b[1;33m=\u001b[0m \u001b[1;32mNone\u001b[0m\u001b[1;33m\u001b[0m\u001b[1;33m\u001b[0m\u001b[0m\n\u001b[0;32m    149\u001b[0m     \u001b[1;32mtry\u001b[0m\u001b[1;33m:\u001b[0m\u001b[1;33m\u001b[0m\u001b[1;33m\u001b[0m\u001b[0m\n\u001b[1;32m--> 150\u001b[1;33m       \u001b[1;32mreturn\u001b[0m \u001b[0mfn\u001b[0m\u001b[1;33m(\u001b[0m\u001b[1;33m*\u001b[0m\u001b[0margs\u001b[0m\u001b[1;33m,\u001b[0m \u001b[1;33m**\u001b[0m\u001b[0mkwargs\u001b[0m\u001b[1;33m)\u001b[0m\u001b[1;33m\u001b[0m\u001b[1;33m\u001b[0m\u001b[0m\n\u001b[0m\u001b[0;32m    151\u001b[0m     \u001b[1;32mexcept\u001b[0m \u001b[0mException\u001b[0m \u001b[1;32mas\u001b[0m \u001b[0me\u001b[0m\u001b[1;33m:\u001b[0m\u001b[1;33m\u001b[0m\u001b[1;33m\u001b[0m\u001b[0m\n\u001b[0;32m    152\u001b[0m       \u001b[0mfiltered_tb\u001b[0m \u001b[1;33m=\u001b[0m \u001b[0m_process_traceback_frames\u001b[0m\u001b[1;33m(\u001b[0m\u001b[0me\u001b[0m\u001b[1;33m.\u001b[0m\u001b[0m__traceback__\u001b[0m\u001b[1;33m)\u001b[0m\u001b[1;33m\u001b[0m\u001b[1;33m\u001b[0m\u001b[0m\n",
      "\u001b[1;32m~\\AppData\\Roaming\\Python\\Python37\\site-packages\\tensorflow\\python\\util\\dispatch.py\u001b[0m in \u001b[0;36mop_dispatch_handler\u001b[1;34m(*args, **kwargs)\u001b[0m\n\u001b[0;32m   1080\u001b[0m       \u001b[1;31m# Fallback dispatch system (dispatch v1):\u001b[0m\u001b[1;33m\u001b[0m\u001b[1;33m\u001b[0m\u001b[1;33m\u001b[0m\u001b[0m\n\u001b[0;32m   1081\u001b[0m       \u001b[1;32mtry\u001b[0m\u001b[1;33m:\u001b[0m\u001b[1;33m\u001b[0m\u001b[1;33m\u001b[0m\u001b[0m\n\u001b[1;32m-> 1082\u001b[1;33m         \u001b[1;32mreturn\u001b[0m \u001b[0mdispatch_target\u001b[0m\u001b[1;33m(\u001b[0m\u001b[1;33m*\u001b[0m\u001b[0margs\u001b[0m\u001b[1;33m,\u001b[0m \u001b[1;33m**\u001b[0m\u001b[0mkwargs\u001b[0m\u001b[1;33m)\u001b[0m\u001b[1;33m\u001b[0m\u001b[1;33m\u001b[0m\u001b[0m\n\u001b[0m\u001b[0;32m   1083\u001b[0m       \u001b[1;32mexcept\u001b[0m \u001b[1;33m(\u001b[0m\u001b[0mTypeError\u001b[0m\u001b[1;33m,\u001b[0m \u001b[0mValueError\u001b[0m\u001b[1;33m)\u001b[0m\u001b[1;33m:\u001b[0m\u001b[1;33m\u001b[0m\u001b[1;33m\u001b[0m\u001b[0m\n\u001b[0;32m   1084\u001b[0m         \u001b[1;31m# Note: convert_to_eager_tensor currently raises a ValueError, not a\u001b[0m\u001b[1;33m\u001b[0m\u001b[1;33m\u001b[0m\u001b[1;33m\u001b[0m\u001b[0m\n",
      "\u001b[1;32m~\\AppData\\Roaming\\Python\\Python37\\site-packages\\tensorflow\\python\\ops\\math_ops.py\u001b[0m in \u001b[0;36mcast\u001b[1;34m(x, dtype, name)\u001b[0m\n\u001b[0;32m   1000\u001b[0m       \u001b[0mx\u001b[0m \u001b[1;33m=\u001b[0m \u001b[0mops\u001b[0m\u001b[1;33m.\u001b[0m\u001b[0mconvert_to_tensor\u001b[0m\u001b[1;33m(\u001b[0m\u001b[0mx\u001b[0m\u001b[1;33m,\u001b[0m \u001b[0mname\u001b[0m\u001b[1;33m=\u001b[0m\u001b[1;34m\"x\"\u001b[0m\u001b[1;33m)\u001b[0m\u001b[1;33m\u001b[0m\u001b[1;33m\u001b[0m\u001b[0m\n\u001b[0;32m   1001\u001b[0m       \u001b[1;32mif\u001b[0m \u001b[0mx\u001b[0m\u001b[1;33m.\u001b[0m\u001b[0mdtype\u001b[0m\u001b[1;33m.\u001b[0m\u001b[0mbase_dtype\u001b[0m \u001b[1;33m!=\u001b[0m \u001b[0mbase_type\u001b[0m\u001b[1;33m:\u001b[0m\u001b[1;33m\u001b[0m\u001b[1;33m\u001b[0m\u001b[0m\n\u001b[1;32m-> 1002\u001b[1;33m         \u001b[0mx\u001b[0m \u001b[1;33m=\u001b[0m \u001b[0mgen_math_ops\u001b[0m\u001b[1;33m.\u001b[0m\u001b[0mcast\u001b[0m\u001b[1;33m(\u001b[0m\u001b[0mx\u001b[0m\u001b[1;33m,\u001b[0m \u001b[0mbase_type\u001b[0m\u001b[1;33m,\u001b[0m \u001b[0mname\u001b[0m\u001b[1;33m=\u001b[0m\u001b[0mname\u001b[0m\u001b[1;33m)\u001b[0m\u001b[1;33m\u001b[0m\u001b[1;33m\u001b[0m\u001b[0m\n\u001b[0m\u001b[0;32m   1003\u001b[0m     \u001b[1;32mif\u001b[0m \u001b[0mx\u001b[0m\u001b[1;33m.\u001b[0m\u001b[0mdtype\u001b[0m\u001b[1;33m.\u001b[0m\u001b[0mis_complex\u001b[0m \u001b[1;32mand\u001b[0m \u001b[0mbase_type\u001b[0m\u001b[1;33m.\u001b[0m\u001b[0mis_floating\u001b[0m\u001b[1;33m:\u001b[0m\u001b[1;33m\u001b[0m\u001b[1;33m\u001b[0m\u001b[0m\n\u001b[0;32m   1004\u001b[0m       \u001b[0mlogging\u001b[0m\u001b[1;33m.\u001b[0m\u001b[0mwarn\u001b[0m\u001b[1;33m(\u001b[0m\u001b[1;34m\"Casting complex to real discards imaginary part.\"\u001b[0m\u001b[1;33m)\u001b[0m\u001b[1;33m\u001b[0m\u001b[1;33m\u001b[0m\u001b[0m\n",
      "\u001b[1;32m~\\AppData\\Roaming\\Python\\Python37\\site-packages\\tensorflow\\python\\ops\\gen_math_ops.py\u001b[0m in \u001b[0;36mcast\u001b[1;34m(x, DstT, Truncate, name)\u001b[0m\n\u001b[0;32m   1995\u001b[0m     \u001b[1;32mtry\u001b[0m\u001b[1;33m:\u001b[0m\u001b[1;33m\u001b[0m\u001b[1;33m\u001b[0m\u001b[0m\n\u001b[0;32m   1996\u001b[0m       _result = pywrap_tfe.TFE_Py_FastPathExecute(\n\u001b[1;32m-> 1997\u001b[1;33m         _ctx, \"Cast\", name, x, \"DstT\", DstT, \"Truncate\", Truncate)\n\u001b[0m\u001b[0;32m   1998\u001b[0m       \u001b[1;32mreturn\u001b[0m \u001b[0m_result\u001b[0m\u001b[1;33m\u001b[0m\u001b[1;33m\u001b[0m\u001b[0m\n\u001b[0;32m   1999\u001b[0m     \u001b[1;32mexcept\u001b[0m \u001b[0m_core\u001b[0m\u001b[1;33m.\u001b[0m\u001b[0m_NotOkStatusException\u001b[0m \u001b[1;32mas\u001b[0m \u001b[0me\u001b[0m\u001b[1;33m:\u001b[0m\u001b[1;33m\u001b[0m\u001b[1;33m\u001b[0m\u001b[0m\n",
      "\u001b[1;31mKeyboardInterrupt\u001b[0m: "
     ]
    }
   ],
   "source": [
    "## INITIALIZE \n",
    "model = base_model()\n",
    "model.layers[2].trainable = False # pca layer\n",
    "DPSGD = DP_SGD(lr_sgd,std_sgd, gs, C, seed)\n",
    "if epsFixed: \n",
    "    print(\"\\n Epsilon kept fixed \\n\")\n",
    "    accountant = moment_accountant(seed, parameters_ma, deltaFixed = deltaFixed, epsFixed= epsFixed, debug = debug, epsilon = epsilon, th_delta = th_delta)\n",
    "else:\n",
    "    print(\"\\n Delta kept fixed \\n\")\n",
    "    #delta fixed\n",
    "    accountant = moment_accountant(seed, parameters_ma, deltaFixed = deltaFixed, epsFixed= epsFixed, debug = debug, delta = delta, th_epsilon = th_epsilon)\n",
    "\n",
    "# Iterate over epochs.\n",
    "epochs = 110 #18\n",
    "epochs_val_losses, epochs_train_losses = [], []\n",
    "for epoch in range(epochs):\n",
    "    print('Start of epoch %d' % (epoch,))\n",
    "\n",
    "    losses_train, go = train_data_for_one_epoch(DPSGD, optimizer, model, loss_object, accountant)\n",
    "    train_acc = train_acc_metric.result()\n",
    "\n",
    "    losses_val = perform_validation()\n",
    "    val_acc = val_acc_metric.result()\n",
    "\n",
    "    losses_train_mean = np.mean(losses_train)\n",
    "    losses_val_mean = np.mean(losses_val)\n",
    "    epochs_val_losses.append(losses_val_mean)\n",
    "    epochs_train_losses.append(losses_train_mean)\n",
    "\n",
    "    print('\\n Epoch %s: Train loss: %.4f  Validation Loss: %.4f, Train Accuracy: %.4f, Validation Accuracy %.4f' % (epoch, float(losses_train_mean), float(losses_val_mean), float(train_acc), float(val_acc)))\n",
    "\n",
    "    train_acc_metric.reset_states()\n",
    "    val_acc_metric.reset_states()\n",
    "    if not go:\n",
    "        print(f\"\\n Stopping due to privacy loss at epoch {epoch}/{epochs} \\n\")\n",
    "        break\n"
   ]
  },
  {
   "cell_type": "markdown",
   "metadata": {
    "colab_type": "text",
    "id": "ltKpkpzKK_Up"
   },
   "source": [
    "## Evaluate Model"
   ]
  },
  {
   "cell_type": "markdown",
   "metadata": {
    "colab_type": "text",
    "id": "tfGc-gMPLCDn"
   },
   "source": [
    "### Plots for Evaluation"
   ]
  },
  {
   "cell_type": "code",
   "execution_count": null,
   "metadata": {
    "colab": {},
    "colab_type": "code",
    "id": "NjzIlGipJwC_"
   },
   "outputs": [],
   "source": [
    "def plot_metrics(train_metric, val_metric, metric_name, title, ylim=5):\n",
    "    plt.title(title)\n",
    "    #plt.ylim(0,ylim)\n",
    "    plt.gca().xaxis.set_major_locator(mticker.MultipleLocator(1))\n",
    "    x = np.arange(1,len(train_metric)+1)\n",
    "    plt.plot(x,train_metric,color='blue',label=metric_name)\n",
    "    plt.plot(x,val_metric,color='green',label='val_' + metric_name)\n",
    "    plt.legend()\n",
    "\n",
    "plot_metrics(epochs_train_losses, epochs_val_losses, \"Loss\", \"Loss\", ylim=10.0)"
   ]
  },
  {
   "cell_type": "markdown",
   "metadata": {},
   "source": [
    "# Saving files"
   ]
  },
  {
   "cell_type": "code",
   "execution_count": null,
   "metadata": {},
   "outputs": [],
   "source": [
    "clock = time.localtime(time.time())\n",
    "runName = f'run_d{clock.tm_mday}h{clock.tm_hour}m{clock.tm_min}'\n",
    "print(runName)\n",
    "pathName = f'./models/{runName}'\n",
    "model.save(pathName)\n",
    "with open(f'./models/{runName}/{runName}_parameters.txt', 'w') as f:\n",
    "    print(allParameters, file=f)\n",
    "with open(f'./models/{runName}/delta_epsilon_lambda_.npy', 'wb') as f:\n",
    "    np.save(f, np.array(accountant.deltaList))\n",
    "    np.save(f, np.array(accountant.epsList))\n",
    "'''\n",
    "# get arrays back\n",
    "with open(f'./models/{runName}/delta_epsilon_lambda_.npy', 'rb') as f:\n",
    "    deltas = np.load(np.array(accountant.deltaList))\n",
    "    epsilons = np.load(np.array(accountant.epsList))\n",
    "'''"
   ]
  },
  {
   "cell_type": "markdown",
   "metadata": {
    "colab_type": "text",
    "id": "adpLKxFfZzTD"
   },
   "source": [
    "This function displays a row of images with their predictions and true labels."
   ]
  },
  {
   "cell_type": "markdown",
   "metadata": {
    "colab": {},
    "colab_type": "code",
    "id": "_3PJnCRIO8bM"
   },
   "source": [
    "# Utility function\n",
    "## utility to display a row of images with their predictions and true labels\n",
    "def display_images(image, predictions, labels, title, n):\n",
    "\n",
    "    display_strings = [str(i) + \"\\n\\n\" + str(j) for i, j in zip(predictions, labels)] \n",
    "\n",
    "    plt.figure(figsize=(17,3))\n",
    "    plt.title(title)\n",
    "    plt.yticks([])\n",
    "    plt.xticks([28*x+14 for x in range(n)], display_strings)\n",
    "    plt.grid(None)\n",
    "    image = np.reshape(image, [n, 28, 28])\n",
    "    image = np.swapaxes(image, 0, 1)\n",
    "    image = np.reshape(image, [28, 28*n])\n",
    "    plt.imshow(image)"
   ]
  },
  {
   "cell_type": "markdown",
   "metadata": {
    "colab_type": "text",
    "id": "505DveJuaCNO"
   },
   "source": [
    "You make predictions on the test dataset and plot the images with their true and predicted values."
   ]
  },
  {
   "cell_type": "markdown",
   "metadata": {
    "colab": {},
    "colab_type": "code",
    "id": "5ybveIIcPgVr"
   },
   "source": [
    "# display random predicted labels\n",
    "test_inputs = test_data.batch(batch_size=1000001)\n",
    "x_batches, y_pred_batches, y_true_batches = [], [], []\n",
    "\n",
    "for x, y in test_inputs:\n",
    "    y_pred = model(x)\n",
    "    y_pred_batches = y_pred.numpy()\n",
    "    y_true_batches = y.numpy()\n",
    "    x_batches = x.numpy()\n",
    "\n",
    "indexes = np.random.choice(len(y_pred_batches), size=10)\n",
    "images_to_plot = x_batches[indexes]\n",
    "y_pred_to_plot = y_pred_batches[indexes]\n",
    "y_true_to_plot = y_true_batches[indexes]\n",
    "\n",
    "y_pred_labels = [class_names[np.argmax(sel_y_pred)] for sel_y_pred in y_pred_to_plot]\n",
    "y_true_labels = [class_names[sel_y_true] for sel_y_true in y_true_to_plot]\n",
    "display_images(images_to_plot, y_pred_labels, y_true_labels, \"Predicted and True Values\", 10)"
   ]
  },
  {
   "cell_type": "code",
   "execution_count": null,
   "metadata": {},
   "outputs": [],
   "source": []
  }
 ],
 "metadata": {
  "colab": {
   "collapsed_sections": [],
   "include_colab_link": true,
   "name": "Training Categorical.ipynb",
   "private_outputs": true,
   "provenance": [],
   "toc_visible": true
  },
  "kernelspec": {
   "display_name": "tf-gpu",
   "language": "python",
   "name": "tf-gpu"
  },
  "language_info": {
   "codemirror_mode": {
    "name": "ipython",
    "version": 3
   },
   "file_extension": ".py",
   "mimetype": "text/x-python",
   "name": "python",
   "nbconvert_exporter": "python",
   "pygments_lexer": "ipython3",
   "version": "3.7.9"
  }
 },
 "nbformat": 4,
 "nbformat_minor": 4
}
